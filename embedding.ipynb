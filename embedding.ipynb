{
 "cells": [
  {
   "cell_type": "code",
   "execution_count": 18,
   "metadata": {},
   "outputs": [],
   "source": [
    "from tensorflow.keras.preprocessing.text import one_hot"
   ]
  },
  {
   "cell_type": "code",
   "execution_count": 19,
   "metadata": {},
   "outputs": [],
   "source": [
    "### sentences\n",
    "sent=[  'the glass of milk',\n",
    "     'the glass of juice',\n",
    "     'the cup of tea',\n",
    "    'I am a good boy',\n",
    "     'I am a good developer',\n",
    "     'understand the meaning of words',\n",
    "     'your videos are good',]"
   ]
  },
  {
   "cell_type": "code",
   "execution_count": 20,
   "metadata": {},
   "outputs": [
    {
     "data": {
      "text/plain": [
       "['the glass of milk',\n",
       " 'the glass of juice',\n",
       " 'the cup of tea',\n",
       " 'I am a good boy',\n",
       " 'I am a good developer',\n",
       " 'understand the meaning of words',\n",
       " 'your videos are good']"
      ]
     },
     "execution_count": 20,
     "metadata": {},
     "output_type": "execute_result"
    }
   ],
   "source": [
    "sent"
   ]
  },
  {
   "cell_type": "code",
   "execution_count": 21,
   "metadata": {},
   "outputs": [],
   "source": [
    "## Define the vocabulary size\n",
    "voc_size=10000"
   ]
  },
  {
   "cell_type": "code",
   "execution_count": 22,
   "metadata": {},
   "outputs": [
    {
     "data": {
      "text/plain": [
       "['the glass of milk',\n",
       " 'the glass of juice',\n",
       " 'the cup of tea',\n",
       " 'I am a good boy',\n",
       " 'I am a good developer',\n",
       " 'understand the meaning of words',\n",
       " 'your videos are good']"
      ]
     },
     "execution_count": 22,
     "metadata": {},
     "output_type": "execute_result"
    }
   ],
   "source": [
    "sent"
   ]
  },
  {
   "cell_type": "code",
   "execution_count": 23,
   "metadata": {},
   "outputs": [
    {
     "data": {
      "text/plain": [
       "[[611, 1846, 5886, 7918],\n",
       " [611, 1846, 5886, 9457],\n",
       " [611, 3083, 5886, 2992],\n",
       " [2451, 4168, 8377, 6317, 8374],\n",
       " [2451, 4168, 8377, 6317, 2479],\n",
       " [1302, 611, 8431, 5886, 2502],\n",
       " [5925, 3474, 4900, 6317]]"
      ]
     },
     "execution_count": 23,
     "metadata": {},
     "output_type": "execute_result"
    }
   ],
   "source": [
    "### One Hot Representation\n",
    "one_hot_repr=[one_hot(words,voc_size)for words in sent]\n",
    "one_hot_repr"
   ]
  },
  {
   "cell_type": "code",
   "execution_count": 24,
   "metadata": {},
   "outputs": [],
   "source": [
    "## word Embedding Representation\n",
    "\n",
    "from tensorflow.keras.layers import Embedding\n",
    "#from tensorflow.keras.processing.sequence import pad_sequences\n",
    "from tensorflow.keras.utils import pad_sequences\n",
    "from tensorflow.keras.models import Sequential"
   ]
  },
  {
   "cell_type": "code",
   "execution_count": 25,
   "metadata": {},
   "outputs": [],
   "source": [
    "import numpy as np"
   ]
  },
  {
   "cell_type": "code",
   "execution_count": 26,
   "metadata": {},
   "outputs": [
    {
     "name": "stdout",
     "output_type": "stream",
     "text": [
      "[[   0    0  611 1846 5886 7918]\n",
      " [   0    0  611 1846 5886 9457]\n",
      " [   0    0  611 3083 5886 2992]\n",
      " [   0 2451 4168 8377 6317 8374]\n",
      " [   0 2451 4168 8377 6317 2479]\n",
      " [   0 1302  611 8431 5886 2502]\n",
      " [   0    0 5925 3474 4900 6317]]\n"
     ]
    }
   ],
   "source": [
    "sent_length=6\n",
    "embedded_docs=pad_sequences(one_hot_repr,padding='pre',maxlen=sent_length)\n",
    "print(embedded_docs)"
   ]
  },
  {
   "cell_type": "code",
   "execution_count": 27,
   "metadata": {},
   "outputs": [],
   "source": [
    "## feature representation\n",
    "dim=10"
   ]
  },
  {
   "cell_type": "code",
   "execution_count": 28,
   "metadata": {},
   "outputs": [],
   "source": [
    "model=Sequential()\n",
    "model.add(Embedding(voc_size,dim,input_length=sent_length))\n",
    "model.compile('adam','mse')"
   ]
  },
  {
   "cell_type": "code",
   "execution_count": 29,
   "metadata": {},
   "outputs": [
    {
     "data": {
      "text/html": [
       "<pre style=\"white-space:pre;overflow-x:auto;line-height:normal;font-family:Menlo,'DejaVu Sans Mono',consolas,'Courier New',monospace\"><span style=\"font-weight: bold\">Model: \"sequential_1\"</span>\n",
       "</pre>\n"
      ],
      "text/plain": [
       "\u001b[1mModel: \"sequential_1\"\u001b[0m\n"
      ]
     },
     "metadata": {},
     "output_type": "display_data"
    },
    {
     "data": {
      "text/html": [
       "<pre style=\"white-space:pre;overflow-x:auto;line-height:normal;font-family:Menlo,'DejaVu Sans Mono',consolas,'Courier New',monospace\">┏━━━━━━━━━━━━━━━━━━━━━━━━━━━━━━━━━┳━━━━━━━━━━━━━━━━━━━━━━━━┳━━━━━━━━━━━━━━━┓\n",
       "┃<span style=\"font-weight: bold\"> Layer (type)                    </span>┃<span style=\"font-weight: bold\"> Output Shape           </span>┃<span style=\"font-weight: bold\">       Param # </span>┃\n",
       "┡━━━━━━━━━━━━━━━━━━━━━━━━━━━━━━━━━╇━━━━━━━━━━━━━━━━━━━━━━━━╇━━━━━━━━━━━━━━━┩\n",
       "│ embedding_1 (<span style=\"color: #0087ff; text-decoration-color: #0087ff\">Embedding</span>)         │ ?                      │   <span style=\"color: #00af00; text-decoration-color: #00af00\">0</span> (unbuilt) │\n",
       "└─────────────────────────────────┴────────────────────────┴───────────────┘\n",
       "</pre>\n"
      ],
      "text/plain": [
       "┏━━━━━━━━━━━━━━━━━━━━━━━━━━━━━━━━━┳━━━━━━━━━━━━━━━━━━━━━━━━┳━━━━━━━━━━━━━━━┓\n",
       "┃\u001b[1m \u001b[0m\u001b[1mLayer (type)                   \u001b[0m\u001b[1m \u001b[0m┃\u001b[1m \u001b[0m\u001b[1mOutput Shape          \u001b[0m\u001b[1m \u001b[0m┃\u001b[1m \u001b[0m\u001b[1m      Param #\u001b[0m\u001b[1m \u001b[0m┃\n",
       "┡━━━━━━━━━━━━━━━━━━━━━━━━━━━━━━━━━╇━━━━━━━━━━━━━━━━━━━━━━━━╇━━━━━━━━━━━━━━━┩\n",
       "│ embedding_1 (\u001b[38;5;33mEmbedding\u001b[0m)         │ ?                      │   \u001b[38;5;34m0\u001b[0m (unbuilt) │\n",
       "└─────────────────────────────────┴────────────────────────┴───────────────┘\n"
      ]
     },
     "metadata": {},
     "output_type": "display_data"
    },
    {
     "data": {
      "text/html": [
       "<pre style=\"white-space:pre;overflow-x:auto;line-height:normal;font-family:Menlo,'DejaVu Sans Mono',consolas,'Courier New',monospace\"><span style=\"font-weight: bold\"> Total params: </span><span style=\"color: #00af00; text-decoration-color: #00af00\">0</span> (0.00 B)\n",
       "</pre>\n"
      ],
      "text/plain": [
       "\u001b[1m Total params: \u001b[0m\u001b[38;5;34m0\u001b[0m (0.00 B)\n"
      ]
     },
     "metadata": {},
     "output_type": "display_data"
    },
    {
     "data": {
      "text/html": [
       "<pre style=\"white-space:pre;overflow-x:auto;line-height:normal;font-family:Menlo,'DejaVu Sans Mono',consolas,'Courier New',monospace\"><span style=\"font-weight: bold\"> Trainable params: </span><span style=\"color: #00af00; text-decoration-color: #00af00\">0</span> (0.00 B)\n",
       "</pre>\n"
      ],
      "text/plain": [
       "\u001b[1m Trainable params: \u001b[0m\u001b[38;5;34m0\u001b[0m (0.00 B)\n"
      ]
     },
     "metadata": {},
     "output_type": "display_data"
    },
    {
     "data": {
      "text/html": [
       "<pre style=\"white-space:pre;overflow-x:auto;line-height:normal;font-family:Menlo,'DejaVu Sans Mono',consolas,'Courier New',monospace\"><span style=\"font-weight: bold\"> Non-trainable params: </span><span style=\"color: #00af00; text-decoration-color: #00af00\">0</span> (0.00 B)\n",
       "</pre>\n"
      ],
      "text/plain": [
       "\u001b[1m Non-trainable params: \u001b[0m\u001b[38;5;34m0\u001b[0m (0.00 B)\n"
      ]
     },
     "metadata": {},
     "output_type": "display_data"
    }
   ],
   "source": [
    "model.summary()"
   ]
  },
  {
   "cell_type": "code",
   "execution_count": 30,
   "metadata": {},
   "outputs": [
    {
     "name": "stdout",
     "output_type": "stream",
     "text": [
      "\u001b[1m1/1\u001b[0m \u001b[32m━━━━━━━━━━━━━━━━━━━━\u001b[0m\u001b[37m\u001b[0m \u001b[1m0s\u001b[0m 248ms/step\n"
     ]
    },
    {
     "data": {
      "text/plain": [
       "array([[[-1.9698083e-02, -3.0609537e-02,  4.7352914e-02, -3.9772414e-02,\n",
       "         -4.0109407e-02,  3.4831170e-02,  2.3333017e-02,  3.6526393e-02,\n",
       "          1.0727931e-02,  4.7397915e-02],\n",
       "        [-1.9698083e-02, -3.0609537e-02,  4.7352914e-02, -3.9772414e-02,\n",
       "         -4.0109407e-02,  3.4831170e-02,  2.3333017e-02,  3.6526393e-02,\n",
       "          1.0727931e-02,  4.7397915e-02],\n",
       "        [-4.2030167e-02, -5.0734766e-03, -3.6660545e-03,  5.8372840e-03,\n",
       "          8.6244121e-03, -2.2658909e-02, -4.3034375e-02,  9.3858354e-03,\n",
       "          3.6370385e-02, -4.1113198e-02],\n",
       "        [-3.3739761e-02, -3.4405150e-02, -1.9013179e-02, -4.4261374e-02,\n",
       "          3.0252967e-02,  2.6310671e-02,  1.3836969e-02, -3.4570169e-02,\n",
       "         -9.0618059e-04,  4.1337777e-02],\n",
       "        [ 3.6261085e-02,  2.8743301e-02,  3.3191297e-02,  3.1919692e-02,\n",
       "         -3.6382031e-02,  1.3899494e-02,  3.6067549e-02,  2.3451004e-02,\n",
       "         -2.2067083e-02, -8.0371387e-03],\n",
       "        [-1.7037272e-02, -8.7334290e-03, -3.2480553e-02,  1.1433911e-02,\n",
       "          5.3824782e-03, -1.7516613e-03,  4.8219193e-02, -4.4772055e-02,\n",
       "         -4.7774579e-02, -4.5665991e-02]],\n",
       "\n",
       "       [[-1.9698083e-02, -3.0609537e-02,  4.7352914e-02, -3.9772414e-02,\n",
       "         -4.0109407e-02,  3.4831170e-02,  2.3333017e-02,  3.6526393e-02,\n",
       "          1.0727931e-02,  4.7397915e-02],\n",
       "        [-1.9698083e-02, -3.0609537e-02,  4.7352914e-02, -3.9772414e-02,\n",
       "         -4.0109407e-02,  3.4831170e-02,  2.3333017e-02,  3.6526393e-02,\n",
       "          1.0727931e-02,  4.7397915e-02],\n",
       "        [-4.2030167e-02, -5.0734766e-03, -3.6660545e-03,  5.8372840e-03,\n",
       "          8.6244121e-03, -2.2658909e-02, -4.3034375e-02,  9.3858354e-03,\n",
       "          3.6370385e-02, -4.1113198e-02],\n",
       "        [-3.3739761e-02, -3.4405150e-02, -1.9013179e-02, -4.4261374e-02,\n",
       "          3.0252967e-02,  2.6310671e-02,  1.3836969e-02, -3.4570169e-02,\n",
       "         -9.0618059e-04,  4.1337777e-02],\n",
       "        [ 3.6261085e-02,  2.8743301e-02,  3.3191297e-02,  3.1919692e-02,\n",
       "         -3.6382031e-02,  1.3899494e-02,  3.6067549e-02,  2.3451004e-02,\n",
       "         -2.2067083e-02, -8.0371387e-03],\n",
       "        [ 6.2038749e-04, -2.0336116e-02, -1.5250541e-02,  3.2513466e-02,\n",
       "          1.4298547e-02, -4.0124476e-02,  4.2148594e-02, -3.3226885e-02,\n",
       "         -3.2230400e-02,  3.0949917e-02]],\n",
       "\n",
       "       [[-1.9698083e-02, -3.0609537e-02,  4.7352914e-02, -3.9772414e-02,\n",
       "         -4.0109407e-02,  3.4831170e-02,  2.3333017e-02,  3.6526393e-02,\n",
       "          1.0727931e-02,  4.7397915e-02],\n",
       "        [-1.9698083e-02, -3.0609537e-02,  4.7352914e-02, -3.9772414e-02,\n",
       "         -4.0109407e-02,  3.4831170e-02,  2.3333017e-02,  3.6526393e-02,\n",
       "          1.0727931e-02,  4.7397915e-02],\n",
       "        [-4.2030167e-02, -5.0734766e-03, -3.6660545e-03,  5.8372840e-03,\n",
       "          8.6244121e-03, -2.2658909e-02, -4.3034375e-02,  9.3858354e-03,\n",
       "          3.6370385e-02, -4.1113198e-02],\n",
       "        [ 1.4591962e-05, -2.3605371e-02, -4.0337574e-02,  3.5804007e-02,\n",
       "         -3.5973109e-02, -2.9015541e-02,  1.2741391e-02, -4.1878797e-02,\n",
       "         -3.8363300e-02, -2.6365984e-02],\n",
       "        [ 3.6261085e-02,  2.8743301e-02,  3.3191297e-02,  3.1919692e-02,\n",
       "         -3.6382031e-02,  1.3899494e-02,  3.6067549e-02,  2.3451004e-02,\n",
       "         -2.2067083e-02, -8.0371387e-03],\n",
       "        [-3.4762360e-02,  2.2410266e-03,  2.8507225e-03,  3.9321054e-02,\n",
       "         -4.5436826e-02,  4.7501992e-02,  3.4280036e-02, -5.6829825e-03,\n",
       "          4.5018319e-02, -3.8134076e-02]],\n",
       "\n",
       "       [[-1.9698083e-02, -3.0609537e-02,  4.7352914e-02, -3.9772414e-02,\n",
       "         -4.0109407e-02,  3.4831170e-02,  2.3333017e-02,  3.6526393e-02,\n",
       "          1.0727931e-02,  4.7397915e-02],\n",
       "        [ 4.6179619e-02, -4.8059847e-02,  1.2812529e-02,  4.9570594e-02,\n",
       "          7.8485236e-03, -6.9716796e-03, -2.2754645e-02, -4.3360330e-02,\n",
       "          3.3575390e-02, -1.4270760e-02],\n",
       "        [-7.1443319e-03,  4.6943594e-02,  1.1636399e-02, -4.4095218e-02,\n",
       "         -4.4222783e-02,  3.4982983e-02, -3.5719514e-02,  3.0278299e-02,\n",
       "          7.9148039e-03, -1.8697403e-02],\n",
       "        [-3.4260917e-02, -1.2100887e-02, -2.4733866e-02,  4.2339217e-02,\n",
       "          2.5301967e-02, -4.5335960e-02, -4.8331607e-02,  1.3459746e-02,\n",
       "          1.1870153e-03,  1.9168209e-02],\n",
       "        [ 3.8848106e-02,  6.3275099e-03, -4.3998249e-03, -4.8755206e-02,\n",
       "         -5.2448735e-03, -3.4796819e-03,  2.8451312e-02, -4.7911990e-02,\n",
       "         -4.1671265e-02, -3.3982471e-02],\n",
       "        [ 2.5462519e-02,  4.4579040e-02, -4.4655316e-03,  1.1483572e-02,\n",
       "         -8.4031224e-03, -2.9680599e-02,  2.0663682e-02, -2.3295283e-02,\n",
       "          3.6147270e-02,  1.4812239e-03]],\n",
       "\n",
       "       [[-1.9698083e-02, -3.0609537e-02,  4.7352914e-02, -3.9772414e-02,\n",
       "         -4.0109407e-02,  3.4831170e-02,  2.3333017e-02,  3.6526393e-02,\n",
       "          1.0727931e-02,  4.7397915e-02],\n",
       "        [ 4.6179619e-02, -4.8059847e-02,  1.2812529e-02,  4.9570594e-02,\n",
       "          7.8485236e-03, -6.9716796e-03, -2.2754645e-02, -4.3360330e-02,\n",
       "          3.3575390e-02, -1.4270760e-02],\n",
       "        [-7.1443319e-03,  4.6943594e-02,  1.1636399e-02, -4.4095218e-02,\n",
       "         -4.4222783e-02,  3.4982983e-02, -3.5719514e-02,  3.0278299e-02,\n",
       "          7.9148039e-03, -1.8697403e-02],\n",
       "        [-3.4260917e-02, -1.2100887e-02, -2.4733866e-02,  4.2339217e-02,\n",
       "          2.5301967e-02, -4.5335960e-02, -4.8331607e-02,  1.3459746e-02,\n",
       "          1.1870153e-03,  1.9168209e-02],\n",
       "        [ 3.8848106e-02,  6.3275099e-03, -4.3998249e-03, -4.8755206e-02,\n",
       "         -5.2448735e-03, -3.4796819e-03,  2.8451312e-02, -4.7911990e-02,\n",
       "         -4.1671265e-02, -3.3982471e-02],\n",
       "        [ 1.3667915e-02, -4.2144977e-02,  2.6029993e-02,  2.7609244e-03,\n",
       "          4.6702996e-03, -2.0537067e-02,  2.8633442e-02,  1.1160858e-03,\n",
       "         -3.1361721e-02, -3.7304532e-02]],\n",
       "\n",
       "       [[-1.9698083e-02, -3.0609537e-02,  4.7352914e-02, -3.9772414e-02,\n",
       "         -4.0109407e-02,  3.4831170e-02,  2.3333017e-02,  3.6526393e-02,\n",
       "          1.0727931e-02,  4.7397915e-02],\n",
       "        [-1.8457998e-02, -2.8145684e-02, -1.8393468e-02,  6.1822906e-03,\n",
       "          2.9211257e-02,  9.7324960e-03, -4.5779459e-03,  1.8993020e-03,\n",
       "          4.9046542e-02, -2.9047860e-02],\n",
       "        [-4.2030167e-02, -5.0734766e-03, -3.6660545e-03,  5.8372840e-03,\n",
       "          8.6244121e-03, -2.2658909e-02, -4.3034375e-02,  9.3858354e-03,\n",
       "          3.6370385e-02, -4.1113198e-02],\n",
       "        [-5.4376610e-03, -4.7528636e-02,  1.7896060e-02, -8.8251755e-04,\n",
       "         -4.3279268e-02,  4.2675760e-02, -3.6875952e-02, -1.7066576e-02,\n",
       "          1.2163829e-02, -1.7621674e-02],\n",
       "        [ 3.6261085e-02,  2.8743301e-02,  3.3191297e-02,  3.1919692e-02,\n",
       "         -3.6382031e-02,  1.3899494e-02,  3.6067549e-02,  2.3451004e-02,\n",
       "         -2.2067083e-02, -8.0371387e-03],\n",
       "        [-5.7276338e-04, -1.0129821e-02,  3.2449786e-02, -1.9082142e-02,\n",
       "          1.4543895e-02,  3.8692001e-02, -3.8754761e-02,  3.6538828e-02,\n",
       "          1.9766960e-02,  1.9153025e-02]],\n",
       "\n",
       "       [[-1.9698083e-02, -3.0609537e-02,  4.7352914e-02, -3.9772414e-02,\n",
       "         -4.0109407e-02,  3.4831170e-02,  2.3333017e-02,  3.6526393e-02,\n",
       "          1.0727931e-02,  4.7397915e-02],\n",
       "        [-1.9698083e-02, -3.0609537e-02,  4.7352914e-02, -3.9772414e-02,\n",
       "         -4.0109407e-02,  3.4831170e-02,  2.3333017e-02,  3.6526393e-02,\n",
       "          1.0727931e-02,  4.7397915e-02],\n",
       "        [-9.7104423e-03,  1.8456209e-02, -1.0268450e-02,  2.2063825e-02,\n",
       "          1.6048502e-02,  3.0979123e-02,  1.8447749e-03, -3.7883915e-02,\n",
       "          1.8278453e-02, -4.4230819e-03],\n",
       "        [-3.4155477e-02, -4.3013550e-02,  1.8311504e-02, -7.6499581e-03,\n",
       "         -4.3568861e-02,  4.2587295e-03, -3.8325429e-02,  4.5534696e-02,\n",
       "         -2.1983683e-02,  1.8517971e-03],\n",
       "        [-2.8311564e-02, -7.3877573e-03, -1.4193155e-02, -9.5110759e-03,\n",
       "         -4.5405567e-02, -2.5072385e-02,  2.0187128e-02, -4.1196667e-02,\n",
       "         -4.1734554e-02,  4.5028079e-02],\n",
       "        [ 3.8848106e-02,  6.3275099e-03, -4.3998249e-03, -4.8755206e-02,\n",
       "         -5.2448735e-03, -3.4796819e-03,  2.8451312e-02, -4.7911990e-02,\n",
       "         -4.1671265e-02, -3.3982471e-02]]], dtype=float32)"
      ]
     },
     "execution_count": 30,
     "metadata": {},
     "output_type": "execute_result"
    }
   ],
   "source": [
    "model.predict(embedded_docs)"
   ]
  },
  {
   "cell_type": "code",
   "execution_count": 31,
   "metadata": {},
   "outputs": [
    {
     "data": {
      "text/plain": [
       "array([   0,    0,  611, 1846, 5886, 7918])"
      ]
     },
     "execution_count": 31,
     "metadata": {},
     "output_type": "execute_result"
    }
   ],
   "source": [
    "embedded_docs[0]"
   ]
  },
  {
   "cell_type": "code",
   "execution_count": 36,
   "metadata": {},
   "outputs": [
    {
     "ename": "IndexError",
     "evalue": "tuple index out of range",
     "output_type": "error",
     "traceback": [
      "\u001b[1;31m---------------------------------------------------------------------------\u001b[0m",
      "\u001b[1;31mIndexError\u001b[0m                                Traceback (most recent call last)",
      "Cell \u001b[1;32mIn[36], line 1\u001b[0m\n\u001b[1;32m----> 1\u001b[0m \u001b[43mmodel\u001b[49m\u001b[38;5;241;43m.\u001b[39;49m\u001b[43mpredict\u001b[49m\u001b[43m(\u001b[49m\u001b[43membedded_docs\u001b[49m\u001b[43m[\u001b[49m\u001b[38;5;241;43m0\u001b[39;49m\u001b[43m]\u001b[49m\u001b[43m[\u001b[49m\u001b[38;5;241;43m0\u001b[39;49m\u001b[43m]\u001b[49m\u001b[43m)\u001b[49m\n",
      "File \u001b[1;32mc:\\Users\\sanga\\AppData\\Local\\Programs\\Python\\Python311\\Lib\\site-packages\\keras\\src\\utils\\traceback_utils.py:122\u001b[0m, in \u001b[0;36mfilter_traceback.<locals>.error_handler\u001b[1;34m(*args, **kwargs)\u001b[0m\n\u001b[0;32m    119\u001b[0m     filtered_tb \u001b[38;5;241m=\u001b[39m _process_traceback_frames(e\u001b[38;5;241m.\u001b[39m__traceback__)\n\u001b[0;32m    120\u001b[0m     \u001b[38;5;66;03m# To get the full stack trace, call:\u001b[39;00m\n\u001b[0;32m    121\u001b[0m     \u001b[38;5;66;03m# `keras.config.disable_traceback_filtering()`\u001b[39;00m\n\u001b[1;32m--> 122\u001b[0m     \u001b[38;5;28;01mraise\u001b[39;00m e\u001b[38;5;241m.\u001b[39mwith_traceback(filtered_tb) \u001b[38;5;28;01mfrom\u001b[39;00m\u001b[38;5;250m \u001b[39m\u001b[38;5;28;01mNone\u001b[39;00m\n\u001b[0;32m    123\u001b[0m \u001b[38;5;28;01mfinally\u001b[39;00m:\n\u001b[0;32m    124\u001b[0m     \u001b[38;5;28;01mdel\u001b[39;00m filtered_tb\n",
      "File \u001b[1;32mc:\\Users\\sanga\\AppData\\Local\\Programs\\Python\\Python311\\Lib\\site-packages\\keras\\src\\trainers\\data_adapters\\data_adapter_utils.py:104\u001b[0m, in \u001b[0;36m<genexpr>\u001b[1;34m(.0)\u001b[0m\n\u001b[0;32m    103\u001b[0m \u001b[38;5;28;01mdef\u001b[39;00m\u001b[38;5;250m \u001b[39m\u001b[38;5;21mcheck_data_cardinality\u001b[39m(data):\n\u001b[1;32m--> 104\u001b[0m     num_samples \u001b[38;5;241m=\u001b[39m \u001b[38;5;28mset\u001b[39m(\u001b[38;5;28mint\u001b[39m(\u001b[43mi\u001b[49m\u001b[38;5;241;43m.\u001b[39;49m\u001b[43mshape\u001b[49m\u001b[43m[\u001b[49m\u001b[38;5;241;43m0\u001b[39;49m\u001b[43m]\u001b[49m) \u001b[38;5;28;01mfor\u001b[39;00m i \u001b[38;5;129;01min\u001b[39;00m tree\u001b[38;5;241m.\u001b[39mflatten(data))\n\u001b[0;32m    105\u001b[0m     \u001b[38;5;28;01mif\u001b[39;00m \u001b[38;5;28mlen\u001b[39m(num_samples) \u001b[38;5;241m>\u001b[39m \u001b[38;5;241m1\u001b[39m:\n\u001b[0;32m    106\u001b[0m         msg \u001b[38;5;241m=\u001b[39m (\n\u001b[0;32m    107\u001b[0m             \u001b[38;5;124m\"\u001b[39m\u001b[38;5;124mData cardinality is ambiguous. \u001b[39m\u001b[38;5;124m\"\u001b[39m\n\u001b[0;32m    108\u001b[0m             \u001b[38;5;124m\"\u001b[39m\u001b[38;5;124mMake sure all arrays contain the same number of samples.\u001b[39m\u001b[38;5;124m\"\u001b[39m\n\u001b[0;32m    109\u001b[0m         )\n",
      "\u001b[1;31mIndexError\u001b[0m: tuple index out of range"
     ]
    }
   ],
   "source": [
    "model.predict(embedded_docs[0][0])"
   ]
  },
  {
   "cell_type": "code",
   "execution_count": null,
   "metadata": {},
   "outputs": [],
   "source": []
  }
 ],
 "metadata": {
  "kernelspec": {
   "display_name": "Python 3",
   "language": "python",
   "name": "python3"
  },
  "language_info": {
   "codemirror_mode": {
    "name": "ipython",
    "version": 3
   },
   "file_extension": ".py",
   "mimetype": "text/x-python",
   "name": "python",
   "nbconvert_exporter": "python",
   "pygments_lexer": "ipython3",
   "version": "3.11.0"
  }
 },
 "nbformat": 4,
 "nbformat_minor": 2
}
